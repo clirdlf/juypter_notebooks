{
 "cells": [
  {
   "cell_type": "markdown",
   "metadata": {},
   "source": [
    "Import Folium (for generating map) and GeoPandas for GIS manipulation"
   ]
  },
  {
   "cell_type": "code",
   "execution_count": 4,
   "metadata": {},
   "outputs": [],
   "source": [
    "import folium\n",
    "import geopandas as gdp"
   ]
  },
  {
   "cell_type": "markdown",
   "metadata": {},
   "source": [
    "Import fiona and enable the KML driver"
   ]
  },
  {
   "cell_type": "code",
   "execution_count": null,
   "metadata": {},
   "outputs": [],
   "source": [
    "import fiona\n",
    "gdp.io.file.fiona.drvsupport.supported_drivers['KML'] = 'rw'"
   ]
  },
  {
   "cell_type": "markdown",
   "metadata": {},
   "source": [
    "Point this at the file to convert. This needs to be the full path name (e.g. don't start with `~/`)"
   ]
  },
  {
   "cell_type": "code",
   "execution_count": 6,
   "metadata": {},
   "outputs": [],
   "source": [
    "fname = \"/Users/waynegraham/projects/iiif_map/KML_Samples.kml\"\n",
    "\n",
    "df = gdp.read_file(fname, driver='KML')"
   ]
  },
  {
   "cell_type": "markdown",
   "metadata": {},
   "source": [
    "Use GeoSeries to calculate the first centroid of the series"
   ]
  },
  {
   "cell_type": "code",
   "execution_count": 7,
   "metadata": {},
   "outputs": [
    {
     "name": "stdout",
     "output_type": "stream",
     "text": [
      "POINT (-13590128.73327948 4498133.155847722)\n"
     ]
    }
   ],
   "source": [
    "from geopandas import GeoSeries\n",
    "\n",
    "geometery = GeoSeries(df.geometry).to_crs(epsg=3857)\n",
    "centroid = geometery.centroid[0]\n",
    "\n",
    "print(centroid)"
   ]
  },
  {
   "cell_type": "markdown",
   "metadata": {},
   "source": [
    "Generate a map.\n",
    "\n",
    "For `tile` options (the basemap), see [folium documentation](https://python-visualization.github.io/folium/modules.html#module-folium.folium)"
   ]
  },
  {
   "cell_type": "code",
   "execution_count": 8,
   "metadata": {},
   "outputs": [],
   "source": [
    "m = folium.Map(location=[centroid.y, centroid.x],\n",
    "               zoom_start=3,\n",
    "               min_zoom=2,\n",
    "               max_zoom=6,\n",
    "               tiles='cartodbpositronnolabels',\n",
    "               zoomControl=False\n",
    "              )\n",
    "\n",
    "radius = 11"
   ]
  },
  {
   "cell_type": "code",
   "execution_count": 20,
   "metadata": {},
   "outputs": [],
   "source": [
    "m.save('clir_staff_map.html')"
   ]
  }
 ],
 "metadata": {
  "kernelspec": {
   "display_name": "Python 3",
   "language": "python",
   "name": "python3"
  },
  "language_info": {
   "codemirror_mode": {
    "name": "ipython",
    "version": 3
   },
   "file_extension": ".py",
   "mimetype": "text/x-python",
   "name": "python",
   "nbconvert_exporter": "python",
   "pygments_lexer": "ipython3",
   "version": "3.8.5"
  }
 },
 "nbformat": 4,
 "nbformat_minor": 4
}
