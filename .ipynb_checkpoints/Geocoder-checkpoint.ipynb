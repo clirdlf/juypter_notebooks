{
 "cells": [
  {
   "cell_type": "markdown",
   "metadata": {},
   "source": [
    "Install Depedencies (only run once)"
   ]
  },
  {
   "cell_type": "code",
   "execution_count": 3,
   "metadata": {},
   "outputs": [
    {
     "name": "stdout",
     "output_type": "stream",
     "text": [
      "Requirement already up-to-date: pandas in /usr/local/lib/python3.8/site-packages (1.1.0)\n",
      "Requirement already satisfied, skipping upgrade: pytz>=2017.2 in /usr/local/lib/python3.8/site-packages (from pandas) (2020.1)\n",
      "Requirement already satisfied, skipping upgrade: python-dateutil>=2.7.3 in /usr/local/lib/python3.8/site-packages (from pandas) (2.8.1)\n",
      "Requirement already satisfied, skipping upgrade: numpy>=1.15.4 in /usr/local/lib/python3.8/site-packages (from pandas) (1.19.1)\n",
      "Requirement already satisfied, skipping upgrade: six>=1.5 in /usr/local/Cellar/protobuf/3.12.4/libexec/lib/python3.8/site-packages (from python-dateutil>=2.7.3->pandas) (1.15.0)\n",
      "Requirement already up-to-date: matplotlib in /usr/local/lib/python3.8/site-packages (3.3.0)\n",
      "Requirement already satisfied, skipping upgrade: pillow>=6.2.0 in /usr/local/lib/python3.8/site-packages (from matplotlib) (7.2.0)\n",
      "Requirement already satisfied, skipping upgrade: cycler>=0.10 in /usr/local/lib/python3.8/site-packages (from matplotlib) (0.10.0)\n",
      "Requirement already satisfied, skipping upgrade: pyparsing!=2.0.4,!=2.1.2,!=2.1.6,>=2.0.3 in /usr/local/lib/python3.8/site-packages (from matplotlib) (2.4.7)\n",
      "Requirement already satisfied, skipping upgrade: python-dateutil>=2.1 in /usr/local/lib/python3.8/site-packages (from matplotlib) (2.8.1)\n",
      "Requirement already satisfied, skipping upgrade: kiwisolver>=1.0.1 in /usr/local/lib/python3.8/site-packages (from matplotlib) (1.2.0)\n",
      "Requirement already satisfied, skipping upgrade: numpy>=1.15 in /usr/local/lib/python3.8/site-packages (from matplotlib) (1.19.1)\n",
      "Requirement already satisfied, skipping upgrade: six in /usr/local/Cellar/protobuf/3.12.4/libexec/lib/python3.8/site-packages (from cycler>=0.10->matplotlib) (1.15.0)\n",
      "Requirement already up-to-date: geopandas in /usr/local/lib/python3.8/site-packages (0.8.1)\n",
      "Requirement already satisfied, skipping upgrade: pandas>=0.23.0 in /usr/local/lib/python3.8/site-packages (from geopandas) (1.1.0)\n",
      "Requirement already satisfied, skipping upgrade: pyproj>=2.2.0 in /usr/local/lib/python3.8/site-packages (from geopandas) (2.6.1.post1)\n",
      "Requirement already satisfied, skipping upgrade: shapely in /usr/local/lib/python3.8/site-packages (from geopandas) (1.7.0)\n",
      "Requirement already satisfied, skipping upgrade: fiona in /usr/local/lib/python3.8/site-packages (from geopandas) (1.8.13.post1)\n",
      "Requirement already satisfied, skipping upgrade: numpy>=1.15.4 in /usr/local/lib/python3.8/site-packages (from pandas>=0.23.0->geopandas) (1.19.1)\n",
      "Requirement already satisfied, skipping upgrade: python-dateutil>=2.7.3 in /usr/local/lib/python3.8/site-packages (from pandas>=0.23.0->geopandas) (2.8.1)\n",
      "Requirement already satisfied, skipping upgrade: pytz>=2017.2 in /usr/local/lib/python3.8/site-packages (from pandas>=0.23.0->geopandas) (2020.1)\n",
      "Requirement already satisfied, skipping upgrade: munch in /usr/local/lib/python3.8/site-packages (from fiona->geopandas) (2.5.0)\n",
      "Requirement already satisfied, skipping upgrade: six>=1.7 in /usr/local/Cellar/protobuf/3.12.4/libexec/lib/python3.8/site-packages (from fiona->geopandas) (1.15.0)\n",
      "Requirement already satisfied, skipping upgrade: cligj>=0.5 in /usr/local/lib/python3.8/site-packages (from fiona->geopandas) (0.5.0)\n",
      "Requirement already satisfied, skipping upgrade: click<8,>=4.0 in /usr/local/lib/python3.8/site-packages (from fiona->geopandas) (7.1.2)\n",
      "Requirement already satisfied, skipping upgrade: attrs>=17 in /usr/local/lib/python3.8/site-packages (from fiona->geopandas) (19.3.0)\n",
      "Requirement already satisfied, skipping upgrade: click-plugins>=1.0 in /usr/local/lib/python3.8/site-packages (from fiona->geopandas) (1.1.1)\n",
      "Requirement already up-to-date: geopy in /usr/local/lib/python3.8/site-packages (2.0.0)\n",
      "Requirement already satisfied, skipping upgrade: geographiclib<2,>=1.49 in /usr/local/lib/python3.8/site-packages (from geopy) (1.50)\n",
      "Requirement already up-to-date: folium in /usr/local/lib/python3.8/site-packages (0.11.0)\n",
      "Requirement already satisfied, skipping upgrade: numpy in /usr/local/lib/python3.8/site-packages (from folium) (1.19.1)\n",
      "Requirement already satisfied, skipping upgrade: jinja2>=2.9 in /usr/local/lib/python3.8/site-packages (from folium) (2.11.2)\n",
      "Requirement already satisfied, skipping upgrade: requests in /usr/local/lib/python3.8/site-packages (from folium) (2.24.0)\n",
      "Requirement already satisfied, skipping upgrade: branca>=0.3.0 in /usr/local/lib/python3.8/site-packages (from folium) (0.4.1)\n",
      "Requirement already satisfied, skipping upgrade: MarkupSafe>=0.23 in /usr/local/lib/python3.8/site-packages (from jinja2>=2.9->folium) (1.1.1)\n",
      "Requirement already satisfied, skipping upgrade: certifi>=2017.4.17 in /usr/local/lib/python3.8/site-packages (from requests->folium) (2020.6.20)\n",
      "Requirement already satisfied, skipping upgrade: idna<3,>=2.5 in /usr/local/lib/python3.8/site-packages (from requests->folium) (2.10)\n",
      "Requirement already satisfied, skipping upgrade: chardet<4,>=3.0.2 in /usr/local/lib/python3.8/site-packages (from requests->folium) (3.0.4)\n",
      "Requirement already satisfied, skipping upgrade: urllib3!=1.25.0,!=1.25.1,<1.26,>=1.21.1 in /usr/local/lib/python3.8/site-packages (from requests->folium) (1.25.10)\n"
     ]
    }
   ],
   "source": [
    "!pip3 install --upgrade pandas\n",
    "!pip3 install --upgrade matplotlib\n",
    "!pip3 install --upgrade geopandas\n",
    "!pip3 install --upgrade geopy\n",
    "!pip3 install --upgrade folium"
   ]
  },
  {
   "cell_type": "markdown",
   "metadata": {},
   "source": [
    "Import GeoPy and pandas libraries"
   ]
  },
  {
   "cell_type": "code",
   "execution_count": 1,
   "metadata": {},
   "outputs": [],
   "source": [
    "import pandas as pd\n",
    "import geopandas as gdp\n",
    "import folium\n",
    "from geopy.geocoders import Nominatim"
   ]
  },
  {
   "cell_type": "markdown",
   "metadata": {},
   "source": [
    "Test a location"
   ]
  },
  {
   "cell_type": "code",
   "execution_count": 2,
   "metadata": {},
   "outputs": [
    {
     "name": "stdout",
     "output_type": "stream",
     "text": [
      "(38.8949855, -77.0365708)\n",
      "Washington, District of Columbia, 20500, United States of America\n"
     ]
    }
   ],
   "source": [
    "locator = Nominatim(user_agent=\"clir_geocoder\")\n",
    "location = locator.geocode(\"Washington, DC\")\n",
    "print((location.latitude, location.longitude))\n",
    "print(location)"
   ]
  },
  {
   "cell_type": "markdown",
   "metadata": {},
   "source": [
    "Read CSV of locations"
   ]
  },
  {
   "cell_type": "code",
   "execution_count": 23,
   "metadata": {},
   "outputs": [],
   "source": [
    "input_filepath = '/Users/wgraham/projects/juypter_notebooks/locations.csv'\n",
    "\n",
    "data = pd.read_csv(input_filepath, encoding='utf8')"
   ]
  },
  {
   "cell_type": "markdown",
   "metadata": {},
   "source": [
    "Set the column headers"
   ]
  },
  {
   "cell_type": "code",
   "execution_count": 24,
   "metadata": {},
   "outputs": [
    {
     "data": {
      "text/html": [
       "<div>\n",
       "<style scoped>\n",
       "    .dataframe tbody tr th:only-of-type {\n",
       "        vertical-align: middle;\n",
       "    }\n",
       "\n",
       "    .dataframe tbody tr th {\n",
       "        vertical-align: top;\n",
       "    }\n",
       "\n",
       "    .dataframe thead th {\n",
       "        text-align: right;\n",
       "    }\n",
       "</style>\n",
       "<table border=\"1\" class=\"dataframe\">\n",
       "  <thead>\n",
       "    <tr style=\"text-align: right;\">\n",
       "      <th></th>\n",
       "      <th>Name</th>\n",
       "      <th>City</th>\n",
       "      <th>State</th>\n",
       "      <th>Affiliation</th>\n",
       "      <th>address</th>\n",
       "    </tr>\n",
       "  </thead>\n",
       "  <tbody>\n",
       "    <tr>\n",
       "      <th>0</th>\n",
       "      <td>Wayne</td>\n",
       "      <td>Arlington</td>\n",
       "      <td>VA</td>\n",
       "      <td>CLIR</td>\n",
       "      <td>Arlington, VA</td>\n",
       "    </tr>\n",
       "    <tr>\n",
       "      <th>1</th>\n",
       "      <td>Amy</td>\n",
       "      <td>Alexandria</td>\n",
       "      <td>VA</td>\n",
       "      <td>CLIR</td>\n",
       "      <td>Alexandria, VA</td>\n",
       "    </tr>\n",
       "    <tr>\n",
       "      <th>2</th>\n",
       "      <td>Josh</td>\n",
       "      <td>Brooklyn</td>\n",
       "      <td>NY</td>\n",
       "      <td>IIIF</td>\n",
       "      <td>Brooklyn, NY</td>\n",
       "    </tr>\n",
       "    <tr>\n",
       "      <th>3</th>\n",
       "      <td>Gayle</td>\n",
       "      <td>Atlanta</td>\n",
       "      <td>GA</td>\n",
       "      <td>DLF</td>\n",
       "      <td>Atlanta, GA</td>\n",
       "    </tr>\n",
       "    <tr>\n",
       "      <th>4</th>\n",
       "      <td>Becca</td>\n",
       "      <td>Riverside</td>\n",
       "      <td>California</td>\n",
       "      <td>CLIR</td>\n",
       "      <td>Riverside, California</td>\n",
       "    </tr>\n",
       "  </tbody>\n",
       "</table>\n",
       "</div>"
      ],
      "text/plain": [
       "    Name        City       State Affiliation                address\n",
       "0  Wayne   Arlington          VA        CLIR          Arlington, VA\n",
       "1    Amy  Alexandria          VA        CLIR         Alexandria, VA\n",
       "2   Josh    Brooklyn          NY        IIIF           Brooklyn, NY\n",
       "3  Gayle     Atlanta          GA         DLF            Atlanta, GA\n",
       "4  Becca   Riverside  California        CLIR  Riverside, California"
      ]
     },
     "execution_count": 24,
     "metadata": {},
     "output_type": "execute_result"
    }
   ],
   "source": [
    "city_column = 'City'\n",
    "state_column = 'State'\n",
    "\n",
    "if city_column not in data.columns:\n",
    "    raise ValueError(\"Missing city column\")\n",
    "    \n",
    "if state_column not in data.columns:\n",
    "    raise ValueError(\"Missing state column\")\n",
    "    \n",
    "data[\"address\"] = data[\"City\"] + \", \" + data[\"State\"]\n",
    "    \n",
    "addresses = data['address'].to_list()\n",
    "\n",
    "data.head()"
   ]
  },
  {
   "cell_type": "code",
   "execution_count": 25,
   "metadata": {},
   "outputs": [],
   "source": [
    "from geopy.extra.rate_limiter import RateLimiter\n",
    "geocode = RateLimiter(locator.geocode, min_delay_seconds=1)\n",
    "\n",
    "data['location'] = data['address'].apply(geocode)\n",
    "data['point'] = data['location'].apply(lambda loc: tuple(loc.point) if loc else None)"
   ]
  },
  {
   "cell_type": "markdown",
   "metadata": {},
   "source": [
    "Split out the longitude/latitude coordinates"
   ]
  },
  {
   "cell_type": "code",
   "execution_count": 26,
   "metadata": {},
   "outputs": [
    {
     "data": {
      "text/html": [
       "<div>\n",
       "<style scoped>\n",
       "    .dataframe tbody tr th:only-of-type {\n",
       "        vertical-align: middle;\n",
       "    }\n",
       "\n",
       "    .dataframe tbody tr th {\n",
       "        vertical-align: top;\n",
       "    }\n",
       "\n",
       "    .dataframe thead th {\n",
       "        text-align: right;\n",
       "    }\n",
       "</style>\n",
       "<table border=\"1\" class=\"dataframe\">\n",
       "  <thead>\n",
       "    <tr style=\"text-align: right;\">\n",
       "      <th></th>\n",
       "      <th>Name</th>\n",
       "      <th>City</th>\n",
       "      <th>State</th>\n",
       "      <th>Affiliation</th>\n",
       "      <th>address</th>\n",
       "      <th>location</th>\n",
       "      <th>point</th>\n",
       "      <th>latitude</th>\n",
       "      <th>longitude</th>\n",
       "      <th>altitude</th>\n",
       "      <th>geometry</th>\n",
       "    </tr>\n",
       "  </thead>\n",
       "  <tbody>\n",
       "    <tr>\n",
       "      <th>0</th>\n",
       "      <td>Wayne</td>\n",
       "      <td>Arlington</td>\n",
       "      <td>VA</td>\n",
       "      <td>CLIR</td>\n",
       "      <td>Arlington, VA</td>\n",
       "      <td>(Arlington, Arlington County, Virginia, United...</td>\n",
       "      <td>(38.8903961, -77.0841585, 0.0)</td>\n",
       "      <td>38.890396</td>\n",
       "      <td>-77.084159</td>\n",
       "      <td>0.0</td>\n",
       "      <td>POINT (-77.08416 38.89040)</td>\n",
       "    </tr>\n",
       "    <tr>\n",
       "      <th>1</th>\n",
       "      <td>Amy</td>\n",
       "      <td>Alexandria</td>\n",
       "      <td>VA</td>\n",
       "      <td>CLIR</td>\n",
       "      <td>Alexandria, VA</td>\n",
       "      <td>(Alexandria, Virginia, 22314, United States of...</td>\n",
       "      <td>(38.8051095, -77.0470229, 0.0)</td>\n",
       "      <td>38.805110</td>\n",
       "      <td>-77.047023</td>\n",
       "      <td>0.0</td>\n",
       "      <td>POINT (-77.04702 38.80511)</td>\n",
       "    </tr>\n",
       "    <tr>\n",
       "      <th>2</th>\n",
       "      <td>Josh</td>\n",
       "      <td>Brooklyn</td>\n",
       "      <td>NY</td>\n",
       "      <td>IIIF</td>\n",
       "      <td>Brooklyn, NY</td>\n",
       "      <td>(Brooklyn, New York, United States of America,...</td>\n",
       "      <td>(40.6501038, -73.9495823, 0.0)</td>\n",
       "      <td>40.650104</td>\n",
       "      <td>-73.949582</td>\n",
       "      <td>0.0</td>\n",
       "      <td>POINT (-73.94958 40.65010)</td>\n",
       "    </tr>\n",
       "    <tr>\n",
       "      <th>3</th>\n",
       "      <td>Gayle</td>\n",
       "      <td>Atlanta</td>\n",
       "      <td>GA</td>\n",
       "      <td>DLF</td>\n",
       "      <td>Atlanta, GA</td>\n",
       "      <td>(Atlanta, Fulton County, Georgia, United State...</td>\n",
       "      <td>(33.7490987, -84.3901849, 0.0)</td>\n",
       "      <td>33.749099</td>\n",
       "      <td>-84.390185</td>\n",
       "      <td>0.0</td>\n",
       "      <td>POINT (-84.39018 33.74910)</td>\n",
       "    </tr>\n",
       "    <tr>\n",
       "      <th>4</th>\n",
       "      <td>Becca</td>\n",
       "      <td>Riverside</td>\n",
       "      <td>California</td>\n",
       "      <td>CLIR</td>\n",
       "      <td>Riverside, California</td>\n",
       "      <td>(Riverside, Riverside County, California, Unit...</td>\n",
       "      <td>(33.9533546, -117.3961623, 0.0)</td>\n",
       "      <td>33.953355</td>\n",
       "      <td>-117.396162</td>\n",
       "      <td>0.0</td>\n",
       "      <td>POINT (-117.39616 33.95335)</td>\n",
       "    </tr>\n",
       "  </tbody>\n",
       "</table>\n",
       "</div>"
      ],
      "text/plain": [
       "    Name        City       State Affiliation                address  \\\n",
       "0  Wayne   Arlington          VA        CLIR          Arlington, VA   \n",
       "1    Amy  Alexandria          VA        CLIR         Alexandria, VA   \n",
       "2   Josh    Brooklyn          NY        IIIF           Brooklyn, NY   \n",
       "3  Gayle     Atlanta          GA         DLF            Atlanta, GA   \n",
       "4  Becca   Riverside  California        CLIR  Riverside, California   \n",
       "\n",
       "                                            location  \\\n",
       "0  (Arlington, Arlington County, Virginia, United...   \n",
       "1  (Alexandria, Virginia, 22314, United States of...   \n",
       "2  (Brooklyn, New York, United States of America,...   \n",
       "3  (Atlanta, Fulton County, Georgia, United State...   \n",
       "4  (Riverside, Riverside County, California, Unit...   \n",
       "\n",
       "                             point   latitude   longitude  altitude  \\\n",
       "0   (38.8903961, -77.0841585, 0.0)  38.890396  -77.084159       0.0   \n",
       "1   (38.8051095, -77.0470229, 0.0)  38.805110  -77.047023       0.0   \n",
       "2   (40.6501038, -73.9495823, 0.0)  40.650104  -73.949582       0.0   \n",
       "3   (33.7490987, -84.3901849, 0.0)  33.749099  -84.390185       0.0   \n",
       "4  (33.9533546, -117.3961623, 0.0)  33.953355 -117.396162       0.0   \n",
       "\n",
       "                      geometry  \n",
       "0   POINT (-77.08416 38.89040)  \n",
       "1   POINT (-77.04702 38.80511)  \n",
       "2   POINT (-73.94958 40.65010)  \n",
       "3   POINT (-84.39018 33.74910)  \n",
       "4  POINT (-117.39616 33.95335)  "
      ]
     },
     "execution_count": 26,
     "metadata": {},
     "output_type": "execute_result"
    }
   ],
   "source": [
    "data[['latitude', 'longitude', 'altitude']] = pd.DataFrame(data['point'].tolist(), index=data.index)\n",
    "\n",
    "gdp.GeoDataFrame(\n",
    "    data, geometry=gdp.points_from_xy(x=data.longitude, y=data.latitude)\n",
    ")\n",
    "\n",
    "data.head()"
   ]
  },
  {
   "cell_type": "markdown",
   "metadata": {},
   "source": [
    "Remove unneeded \"working\" columns"
   ]
  },
  {
   "cell_type": "code",
   "execution_count": 27,
   "metadata": {},
   "outputs": [
    {
     "data": {
      "text/html": [
       "<div>\n",
       "<style scoped>\n",
       "    .dataframe tbody tr th:only-of-type {\n",
       "        vertical-align: middle;\n",
       "    }\n",
       "\n",
       "    .dataframe tbody tr th {\n",
       "        vertical-align: top;\n",
       "    }\n",
       "\n",
       "    .dataframe thead th {\n",
       "        text-align: right;\n",
       "    }\n",
       "</style>\n",
       "<table border=\"1\" class=\"dataframe\">\n",
       "  <thead>\n",
       "    <tr style=\"text-align: right;\">\n",
       "      <th></th>\n",
       "      <th>Name</th>\n",
       "      <th>Affiliation</th>\n",
       "      <th>point</th>\n",
       "      <th>latitude</th>\n",
       "      <th>longitude</th>\n",
       "      <th>altitude</th>\n",
       "      <th>geometry</th>\n",
       "    </tr>\n",
       "  </thead>\n",
       "  <tbody>\n",
       "    <tr>\n",
       "      <th>0</th>\n",
       "      <td>Wayne</td>\n",
       "      <td>CLIR</td>\n",
       "      <td>(38.8903961, -77.0841585, 0.0)</td>\n",
       "      <td>38.890396</td>\n",
       "      <td>-77.084159</td>\n",
       "      <td>0.0</td>\n",
       "      <td>POINT (-77.08416 38.89040)</td>\n",
       "    </tr>\n",
       "    <tr>\n",
       "      <th>1</th>\n",
       "      <td>Amy</td>\n",
       "      <td>CLIR</td>\n",
       "      <td>(38.8051095, -77.0470229, 0.0)</td>\n",
       "      <td>38.805110</td>\n",
       "      <td>-77.047023</td>\n",
       "      <td>0.0</td>\n",
       "      <td>POINT (-77.04702 38.80511)</td>\n",
       "    </tr>\n",
       "    <tr>\n",
       "      <th>2</th>\n",
       "      <td>Josh</td>\n",
       "      <td>IIIF</td>\n",
       "      <td>(40.6501038, -73.9495823, 0.0)</td>\n",
       "      <td>40.650104</td>\n",
       "      <td>-73.949582</td>\n",
       "      <td>0.0</td>\n",
       "      <td>POINT (-73.94958 40.65010)</td>\n",
       "    </tr>\n",
       "    <tr>\n",
       "      <th>3</th>\n",
       "      <td>Gayle</td>\n",
       "      <td>DLF</td>\n",
       "      <td>(33.7490987, -84.3901849, 0.0)</td>\n",
       "      <td>33.749099</td>\n",
       "      <td>-84.390185</td>\n",
       "      <td>0.0</td>\n",
       "      <td>POINT (-84.39018 33.74910)</td>\n",
       "    </tr>\n",
       "    <tr>\n",
       "      <th>4</th>\n",
       "      <td>Becca</td>\n",
       "      <td>CLIR</td>\n",
       "      <td>(33.9533546, -117.3961623, 0.0)</td>\n",
       "      <td>33.953355</td>\n",
       "      <td>-117.396162</td>\n",
       "      <td>0.0</td>\n",
       "      <td>POINT (-117.39616 33.95335)</td>\n",
       "    </tr>\n",
       "  </tbody>\n",
       "</table>\n",
       "</div>"
      ],
      "text/plain": [
       "    Name Affiliation                            point   latitude   longitude  \\\n",
       "0  Wayne        CLIR   (38.8903961, -77.0841585, 0.0)  38.890396  -77.084159   \n",
       "1    Amy        CLIR   (38.8051095, -77.0470229, 0.0)  38.805110  -77.047023   \n",
       "2   Josh        IIIF   (40.6501038, -73.9495823, 0.0)  40.650104  -73.949582   \n",
       "3  Gayle         DLF   (33.7490987, -84.3901849, 0.0)  33.749099  -84.390185   \n",
       "4  Becca        CLIR  (33.9533546, -117.3961623, 0.0)  33.953355 -117.396162   \n",
       "\n",
       "   altitude                     geometry  \n",
       "0       0.0   POINT (-77.08416 38.89040)  \n",
       "1       0.0   POINT (-77.04702 38.80511)  \n",
       "2       0.0   POINT (-73.94958 40.65010)  \n",
       "3       0.0   POINT (-84.39018 33.74910)  \n",
       "4       0.0  POINT (-117.39616 33.95335)  "
      ]
     },
     "execution_count": 27,
     "metadata": {},
     "output_type": "execute_result"
    }
   ],
   "source": [
    "data = data.drop(['City', 'State', 'address', 'location'], axis=1)\n",
    "data.head()"
   ]
  },
  {
   "cell_type": "markdown",
   "metadata": {},
   "source": [
    "Check if there are locations without latitudes"
   ]
  },
  {
   "cell_type": "code",
   "execution_count": 28,
   "metadata": {},
   "outputs": [],
   "source": [
    "data.latitude.isnull().sum()\n",
    "data = data[pd.notnull(data['latitude'])]"
   ]
  },
  {
   "cell_type": "markdown",
   "metadata": {},
   "source": [
    "Convert to geodataframe"
   ]
  },
  {
   "cell_type": "code",
   "execution_count": 29,
   "metadata": {
    "scrolled": true
   },
   "outputs": [
    {
     "name": "stdout",
     "output_type": "stream",
     "text": [
      "POINT (-68.30265357890647 39.74072230114307)\n"
     ]
    }
   ],
   "source": [
    "from shapely.geometry import Polygon, Point, MultiPoint\n",
    "\n",
    "points = gdp.GeoDataFrame(data['geometry'])\n",
    "\n",
    "line_string = MultiPoint(points.geometry)\n",
    "polygon = Polygon(line_string).convex_hull\n",
    "centroid = polygon.centroid\n",
    "print(centroid)\n",
    "\n"
   ]
  },
  {
   "cell_type": "code",
   "execution_count": 54,
   "metadata": {},
   "outputs": [],
   "source": [
    "icon_map = {\n",
    "    'CLIR': 'crimson',\n",
    "    'IIIF': '#3186cc',\n",
    "    'DLF': 'crimson'\n",
    "}\n",
    "\n",
    "marker_map = {\n",
    "    'CLIR': 'crimson',\n",
    "    'IIIF': '#3186cc',\n",
    "    'DLF': 'crimson'\n",
    "}"
   ]
  },
  {
   "cell_type": "code",
   "execution_count": 73,
   "metadata": {},
   "outputs": [
    {
     "name": "stdout",
     "output_type": "stream",
     "text": [
      "color=\"red\" | CLIR\n",
      "color=\"red\" | CLIR\n"
     ]
    },
    {
     "name": "stderr",
     "output_type": "stream",
     "text": [
      "<ipython-input-73-32077aa740cb>:34: UserWarning: color argument of Icon should be one of: {'white', 'lightred', 'purple', 'black', 'blue', 'green', 'darkred', 'beige', 'orange', 'lightblue', 'lightgray', 'cadetblue', 'darkpurple', 'pink', 'darkblue', 'lightgreen', 'gray', 'darkgreen', 'red'}.\n",
      "  icon=folium.Icon(marker_map[row['Affiliation']])\n"
     ]
    },
    {
     "ename": "KeyError",
     "evalue": "'IIIF'",
     "output_type": "error",
     "traceback": [
      "\u001b[0;31m---------------------------------------------------------------------------\u001b[0m",
      "\u001b[0;31mKeyError\u001b[0m                                  Traceback (most recent call last)",
      "\u001b[0;32m<ipython-input-73-32077aa740cb>\u001b[0m in \u001b[0;36m<module>\u001b[0;34m\u001b[0m\n\u001b[1;32m     27\u001b[0m \u001b[0;34m\u001b[0m\u001b[0m\n\u001b[1;32m     28\u001b[0m \u001b[0;32mfor\u001b[0m \u001b[0mindex\u001b[0m\u001b[0;34m,\u001b[0m \u001b[0mrow\u001b[0m \u001b[0;32min\u001b[0m \u001b[0mdata\u001b[0m\u001b[0;34m.\u001b[0m\u001b[0miterrows\u001b[0m\u001b[0;34m(\u001b[0m\u001b[0;34m)\u001b[0m\u001b[0;34m:\u001b[0m\u001b[0;34m\u001b[0m\u001b[0;34m\u001b[0m\u001b[0m\n\u001b[0;32m---> 29\u001b[0;31m     \u001b[0mprint\u001b[0m\u001b[0;34m(\u001b[0m\u001b[0mmarker_map\u001b[0m\u001b[0;34m[\u001b[0m\u001b[0mrow\u001b[0m\u001b[0;34m[\u001b[0m\u001b[0;34m'Affiliation'\u001b[0m\u001b[0;34m]\u001b[0m\u001b[0;34m]\u001b[0m \u001b[0;34m+\u001b[0m \u001b[0;34m' | '\u001b[0m \u001b[0;34m+\u001b[0m \u001b[0mrow\u001b[0m\u001b[0;34m[\u001b[0m\u001b[0;34m'Affiliation'\u001b[0m\u001b[0;34m]\u001b[0m\u001b[0;34m)\u001b[0m\u001b[0;34m\u001b[0m\u001b[0;34m\u001b[0m\u001b[0m\n\u001b[0m\u001b[1;32m     30\u001b[0m \u001b[0;34m\u001b[0m\u001b[0m\n\u001b[1;32m     31\u001b[0m     folium.Marker(\n",
      "\u001b[0;31mKeyError\u001b[0m: 'IIIF'"
     ]
    }
   ],
   "source": [
    "m = folium.Map(\n",
    "    location=[centroid.y, centroid.x],\n",
    "    tiles='https://{s}.tile.thunderforest.com/pioneer/{z}/{x}/{y}.png?apikey=ed8a8c98442949588501489e7f836831',\n",
    "    attr='<a href=\"http://www.thunderforest.com/\">Thunderforest</a>',\n",
    "    zoom_start=3,\n",
    "#     zoomControl=False\n",
    ")\n",
    "\n",
    "radius = 11\n",
    "\n",
    "# Transparent circle markers\n",
    "# data.apply(lambda row:folium.CircleMarker(\n",
    "#     location=[row[\"latitude\"], row[\"longitude\"]],\n",
    "#     color=None,\n",
    "#     fill_color = icon_map[row['Affiliation']],\n",
    "#     radius=radius\n",
    "# ).add_to(m), axis=1)\n",
    "\n",
    "# For MarkerIcons\n",
    "# \n",
    "\n",
    "marker_map = {\n",
    "    'CLIR': 'color=\"blue\"',\n",
    "#     'IIIF': 'color=\"green\"',\n",
    "#     'DLF': 'color=\"darkblue\", icon=\"cloud\"'\n",
    "}\n",
    "\n",
    "for index, row in data.iterrows():\n",
    "    print(marker_map[row['Affiliation']] + ' | ' + row['Affiliation'])\n",
    "    \n",
    "    folium.Marker(\n",
    "        location=[row[\"latitude\"], row[\"longitude\"]],\n",
    "        popup=row['Affiliation'],\n",
    "        icon=folium.Icon(marker_map[row['Affiliation']])\n",
    "    ).add_to(m)\n",
    "\n",
    "# for index, row in data.iterrows():\n",
    "#     icon = folium.CircleMarker(\n",
    "#         location=[row[\"latitude\"], row[\"longitude\"]],\n",
    "#         color=None,\n",
    "#         fill=True,\n",
    "#         fill_color = icon_map[row['Affiliation']],\n",
    "#         radius=radius,\n",
    "#     ).add_to(m)\n",
    "\n",
    "m"
   ]
  },
  {
   "cell_type": "code",
   "execution_count": 14,
   "metadata": {},
   "outputs": [],
   "source": [
    "m.save('map.html')\n",
    "!open map.html"
   ]
  }
 ],
 "metadata": {
  "kernelspec": {
   "display_name": "Python 3",
   "language": "python",
   "name": "python3"
  },
  "language_info": {
   "codemirror_mode": {
    "name": "ipython",
    "version": 3
   },
   "file_extension": ".py",
   "mimetype": "text/x-python",
   "name": "python",
   "nbconvert_exporter": "python",
   "pygments_lexer": "ipython3",
   "version": "3.8.5"
  }
 },
 "nbformat": 4,
 "nbformat_minor": 4
}
